{
 "cells": [
  {
   "cell_type": "code",
   "execution_count": 3,
   "metadata": {},
   "outputs": [],
   "source": [
    "class MyClass:\n",
    "    pass\n",
    "obj = MyClass()\n",
    "del obj                     # obj가 소멸될 때 __del__ 메서드가 호출됩니다."
   ]
  },
  {
   "cell_type": "code",
   "execution_count": 1,
   "metadata": {},
   "outputs": [
    {
     "name": "stdout",
     "output_type": "stream",
     "text": [
      "Example 객체가 생성되었습니다.\n",
      "Example 객체가 소멸되었습니다.\n"
     ]
    }
   ],
   "source": [
    "class MyClass:\n",
    "    def __init__(self, name):\n",
    "        self.name = name\n",
    "        print(f\"{self.name} 객체가 생성되었습니다.\")\n",
    "\n",
    "    def __del__(self):\n",
    "        print(f\"{self.name} 객체가 소멸되었습니다.\")\n",
    "\n",
    "obj = MyClass(\"Example\")\n",
    "del obj  # obj가 소멸될 때 __del__ 메서드가 호출됩니다."
   ]
  },
  {
   "cell_type": "code",
   "execution_count": 2,
   "metadata": {},
   "outputs": [
    {
     "name": "stdout",
     "output_type": "stream",
     "text": [
      "140728403228184\n",
      "140728403228184\n"
     ]
    }
   ],
   "source": [
    "a=100\n",
    "print(id(a))\n",
    "\n",
    "print(id(100))"
   ]
  },
  {
   "cell_type": "code",
   "execution_count": 3,
   "metadata": {},
   "outputs": [
    {
     "name": "stdout",
     "output_type": "stream",
     "text": [
      "140728403228184\n"
     ]
    }
   ],
   "source": [
    "a=100\n",
    "b=a\n",
    "print(id(a))"
   ]
  }
 ],
 "metadata": {
  "kernelspec": {
   "display_name": "Python 3",
   "language": "python",
   "name": "python3"
  },
  "language_info": {
   "codemirror_mode": {
    "name": "ipython",
    "version": 3
   },
   "file_extension": ".py",
   "mimetype": "text/x-python",
   "name": "python",
   "nbconvert_exporter": "python",
   "pygments_lexer": "ipython3",
   "version": "3.12.7"
  }
 },
 "nbformat": 4,
 "nbformat_minor": 2
}
