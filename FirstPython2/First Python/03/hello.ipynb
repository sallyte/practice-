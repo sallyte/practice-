{
 "cells": [
  {
   "cell_type": "code",
   "execution_count": 1,
   "metadata": {},
   "outputs": [
    {
     "name": "stdout",
     "output_type": "stream",
     "text": [
      "hello\n"
     ]
    }
   ],
   "source": [
    "print('hello')"
   ]
  },
  {
   "cell_type": "code",
   "execution_count": 1,
   "metadata": {},
   "outputs": [
    {
     "name": "stdout",
     "output_type": "stream",
     "text": [
      "2\n"
     ]
    }
   ],
   "source": [
    "print(1+1)"
   ]
  },
  {
   "cell_type": "code",
   "execution_count": 16,
   "metadata": {},
   "outputs": [
    {
     "name": "stdout",
     "output_type": "stream",
     "text": [
      "Helloworld\n",
      "Hello world\n",
      "\n",
      "이설희\n",
      "Hello WorldHello WorldHello World\n",
      "Hello World 3\n",
      "Hello '안녕하세요'\n"
     ]
    }
   ],
   "source": [
    "print(\"Hello\"+'world')\n",
    "\n",
    "print(\"Hello\",\"world\")\n",
    "\n",
    "print()  #자동으로 공백 문자 삽입 end='\\n' 내려쓰기\n",
    "print('이설희')\n",
    "\n",
    "print('Hello World'*3)\n",
    "print('Hello World', 3)\n",
    "#print('Hello World'+ 3) #숫자와 문자열 연산 오류\n",
    "\n",
    "print(\"Hello '안녕하세요'\")"
   ]
  },
  {
   "cell_type": "code",
   "execution_count": null,
   "metadata": {},
   "outputs": [],
   "source": []
  },
  {
   "cell_type": "code",
   "execution_count": 22,
   "metadata": {},
   "outputs": [
    {
     "name": "stdout",
     "output_type": "stream",
     "text": [
      "p |Y |T |H |O |N\n",
      "pY THON\n"
     ]
    }
   ],
   "source": [
    "print('p','Y','T','H','O','N',sep=' |')\n",
    "print('pY','THON')"
   ]
  },
  {
   "cell_type": "code",
   "execution_count": 28,
   "metadata": {},
   "outputs": [
    {
     "name": "stdout",
     "output_type": "stream",
     "text": [
      "python start\n",
      "python \n",
      "      start\n",
      "python       start\n"
     ]
    }
   ],
   "source": [
    "print(\"\"\"python start\"\"\")\n",
    "print(\"\"\"python \n",
    "      start\"\"\")\n",
    "'''\n",
    "print(\"python \n",
    "      start\")\n",
    "      '''\n",
    "# C계열//\n",
    "# 여러줄 /* */\n",
    "print(\"python \\\n",
    "      start\")"
   ]
  }
 ],
 "metadata": {
  "kernelspec": {
   "display_name": "Python 3",
   "language": "python",
   "name": "python3"
  },
  "language_info": {
   "codemirror_mode": {
    "name": "ipython",
    "version": 3
   },
   "file_extension": ".py",
   "mimetype": "text/x-python",
   "name": "python",
   "nbconvert_exporter": "python",
   "pygments_lexer": "ipython3",
   "version": "3.12.6"
  }
 },
 "nbformat": 4,
 "nbformat_minor": 2
}
