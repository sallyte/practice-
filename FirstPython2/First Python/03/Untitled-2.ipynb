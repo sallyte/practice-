{
 "cells": [
  {
   "cell_type": "code",
   "execution_count": null,
   "metadata": {},
   "outputs": [],
   "source": [
    "menu = int(input('메뉴를 입력해주세요> '))\n",
    " \n",
    "match menu:\n",
    "    case 1:\n",
    "        print('커피')\n",
    "    case 2:\n",
    "        print('에이드')\n",
    "    case 3:\n",
    "        print('우유')\n",
    "    case _:\n",
    "        print('1 ~ 3까지만 입력 가능!')\n",
    "        "
   ]
  }
 ],
 "metadata": {
  "kernelspec": {
   "display_name": "Python 3",
   "language": "python",
   "name": "python3"
  },
  "language_info": {
   "codemirror_mode": {
    "name": "ipython",
    "version": 3
   },
   "file_extension": ".py",
   "mimetype": "text/x-python",
   "name": "python",
   "nbconvert_exporter": "python",
   "pygments_lexer": "ipython3",
   "version": "3.12.7"
  }
 },
 "nbformat": 4,
 "nbformat_minor": 2
}
